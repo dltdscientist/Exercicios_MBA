{
  "nbformat": 4,
  "nbformat_minor": 0,
  "metadata": {
    "colab": {
      "name": "Aula_10_Programação_MBA.ipynb",
      "provenance": [],
      "collapsed_sections": [],
      "authorship_tag": "ABX9TyMFIIl8uAejL5LWtv8XRrr5",
      "include_colab_link": true
    },
    "kernelspec": {
      "name": "python3",
      "display_name": "Python 3"
    },
    "language_info": {
      "name": "python"
    }
  },
  "cells": [
    {
      "cell_type": "markdown",
      "metadata": {
        "id": "view-in-github",
        "colab_type": "text"
      },
      "source": [
        "<a href=\"https://colab.research.google.com/github/dltdscientist/exerciciosPython/blob/main/Aula_10_Programa%C3%A7%C3%A3o_MBA.ipynb\" target=\"_parent\"><img src=\"https://colab.research.google.com/assets/colab-badge.svg\" alt=\"Open In Colab\"/></a>"
      ]
    },
    {
      "cell_type": "markdown",
      "source": [
        ""
      ],
      "metadata": {
        "id": "B_9FJxO1_JSJ"
      }
    },
    {
      "cell_type": "markdown",
      "source": [
        "## Album de Figurinhas\n",
        "### **Problema**: Descobrir o custo médio para completar o álbum da Copa do Mundo Qatar 2022.\n",
        "\n",
        "\n",
        "\n"
      ],
      "metadata": {
        "id": "7LqZam3mSLwR"
      }
    },
    {
      "cell_type": "code",
      "source": [
        "import random\n",
        "\n",
        "#Album zerado\n",
        "n = 251\n",
        "preco_album = 10\n",
        "preco_pacote = 4\n",
        "\n",
        "def SimularCompletarAlbum():\n",
        "  album = [0] * n\n",
        "  pacotes = 0\n",
        "\n",
        "  while True:\n",
        "    #Comprar um pacotinho de figurinhas\n",
        "    pacotinho = random.sample(range(n), 4)\n",
        "    pacotes += 1\n",
        "\n",
        "    #Colar as figurinhas no álbum\n",
        "    for figurinha in pacotinho:\n",
        "      album[figurinha] += 1\n",
        "\n",
        "    # Verificar figurinhas preenchidas\n",
        "    preenchidas = []\n",
        "    for figurinha in album:\n",
        "      preenchidas.append(figurinha > 0)\n",
        "    if all(preenchidas):\n",
        "      break\n",
        "  \n",
        "  return pacotes    "
      ],
      "metadata": {
        "id": "owPEeDzOYwK8"
      },
      "execution_count": null,
      "outputs": []
    },
    {
      "cell_type": "code",
      "source": [
        "SimularCompletarAlbum()"
      ],
      "metadata": {
        "colab": {
          "base_uri": "https://localhost:8080/"
        },
        "id": "gJMC9R9xAWhl",
        "outputId": "f54b64a6-87bf-45f2-85d2-5f8b77ee8f8f"
      },
      "execution_count": null,
      "outputs": [
        {
          "output_type": "execute_result",
          "data": {
            "text/plain": [
              "551"
            ]
          },
          "metadata": {},
          "execution_count": 2
        }
      ]
    },
    {
      "cell_type": "code",
      "source": [
        "reps = 1000\n",
        "resultados = []\n",
        "\n",
        "for i in range(reps):\n",
        "  resultados.append(SimularCompletarAlbum())\n",
        "  if (i+1) % 100 == 0:\n",
        "    print(f'Simulação {i+1}/{reps} completas')"
      ],
      "metadata": {
        "colab": {
          "base_uri": "https://localhost:8080/"
        },
        "id": "CZ_nRB0tBbqR",
        "outputId": "1879fa22-7aae-48af-c0fe-b1c1c8686dd1"
      },
      "execution_count": null,
      "outputs": [
        {
          "output_type": "stream",
          "name": "stdout",
          "text": [
            "Simulação 100/1000 completas\n",
            "Simulação 200/1000 completas\n",
            "Simulação 300/1000 completas\n",
            "Simulação 400/1000 completas\n",
            "Simulação 500/1000 completas\n",
            "Simulação 600/1000 completas\n",
            "Simulação 700/1000 completas\n",
            "Simulação 800/1000 completas\n",
            "Simulação 900/1000 completas\n",
            "Simulação 1000/1000 completas\n"
          ]
        }
      ]
    },
    {
      "cell_type": "code",
      "source": [
        "#numero de pacotes necessários, em média\n",
        "pacotes_medio = sum(resultados)/len(resultados)\n",
        "pacotes_medio"
      ],
      "metadata": {
        "colab": {
          "base_uri": "https://localhost:8080/"
        },
        "id": "TRKLOzl5DbN0",
        "outputId": "8943fb4f-900f-44b9-feb9-13ec97c37e55"
      },
      "execution_count": null,
      "outputs": [
        {
          "output_type": "execute_result",
          "data": {
            "text/plain": [
              "376.494"
            ]
          },
          "metadata": {},
          "execution_count": 4
        }
      ]
    },
    {
      "cell_type": "code",
      "source": [
        "custo_medio = preco_album + preco_pacote*pacotes_medio\n",
        "print('Custo Médio de R$', round(custo_medio, 2))"
      ],
      "metadata": {
        "colab": {
          "base_uri": "https://localhost:8080/"
        },
        "id": "7Dx0VhWTDbZE",
        "outputId": "55990b7b-40d3-4e8f-e576-96febfc5f94b"
      },
      "execution_count": null,
      "outputs": [
        {
          "output_type": "stream",
          "name": "stdout",
          "text": [
            "Custo Médio de R$ 1515.98\n"
          ]
        }
      ]
    },
    {
      "cell_type": "code",
      "source": [
        ""
      ],
      "metadata": {
        "id": "wxYIeAxgKm4O"
      },
      "execution_count": null,
      "outputs": []
    },
    {
      "cell_type": "markdown",
      "source": [
        "## ◾ **Exercício Proposto**\n",
        "\n",
        "Continue respondendo:\n",
        "\n",
        "1. Quantas vezes saiu a figurinha mais repetida, em média?\n",
        "5. Em média, quantas figurinhas não se repetem ao completar o álbum?\n",
        "6. Qual a probabilidade de se gastar mais que R\\$3000,00 para completar o álbum?\n",
        "7. Qual a probabilidade de se gastar menos que R\\$1500,00 para completar o álbum?\n",
        "8. Qual a probabilidade de se gastar mais do que a média para completar o álbum? \n",
        "10. Qual o valor médio gasto caso se esteja completando o álbum com mais um amigo? Quanto se economiza nesse o cenário?\n",
        "12. Qual o valor médio gasto caso se esteja completando o álbum com mais dois amigos? Quanto se economiza nesse cenário?\n",
        "13. Quanto se gasta, em média, para completar os primeiros 25% do álbum? E os primeiros 50%? E os primeiros 75%? "
      ],
      "metadata": {
        "id": "ET5-6PQQKLoH"
      }
    },
    {
      "cell_type": "markdown",
      "source": [
        "###Exercicio Proposto_Pergunta_1"
      ],
      "metadata": {
        "id": "h-wcclOxRxXp"
      }
    },
    {
      "cell_type": "code",
      "source": [
        "import random\n",
        "\n",
        "#Album zerado\n",
        "n = 251\n",
        "preco_album = 10\n",
        "preco_pacote = 4\n",
        "\n",
        "def SimularCompletarAlbum():\n",
        "  album = [0] * n\n",
        "  pacotes = 0\n",
        "\n",
        "  while True:\n",
        "    #Comprar um pacotinho de figurinhas\n",
        "    pacotinho = random.sample(range(n), 4)\n",
        "    pacotes += 1\n",
        "\n",
        "    #Colar as figurinhas no álbum\n",
        "    for figurinha in pacotinho:\n",
        "      album[figurinha] += 1\n",
        "\n",
        "    # Verificar figurinhas preenchidas\n",
        "    preenchidas = []\n",
        "    for figurinha in album:\n",
        "      preenchidas.append(figurinha > 0)\n",
        "    if all(preenchidas):\n",
        "      break\n",
        "  \n",
        "  return pacotes, max(album)    "
      ],
      "metadata": {
        "id": "Eq_HY39qrtAN"
      },
      "execution_count": null,
      "outputs": []
    },
    {
      "cell_type": "code",
      "source": [
        "reps = 1000\n",
        "resultados = []\n",
        "maisrep = []\n",
        "for i in range(reps):\n",
        "  aux = SimularCompletarAlbum()\n",
        "  resultados.append(aux[0])\n",
        "  maisrep.append(aux[1])\n",
        "  if (i+1) % 100 == 0:\n",
        "    print(f'Simulação {i+1}/{reps} completas')"
      ],
      "metadata": {
        "colab": {
          "base_uri": "https://localhost:8080/"
        },
        "id": "tBJtNP-HKJaM",
        "outputId": "56af3bf8-8632-4d35-a162-ba36a055c59a"
      },
      "execution_count": null,
      "outputs": [
        {
          "output_type": "stream",
          "name": "stdout",
          "text": [
            "Simulação 100/1000 completas\n",
            "Simulação 200/1000 completas\n",
            "Simulação 300/1000 completas\n",
            "Simulação 400/1000 completas\n",
            "Simulação 500/1000 completas\n",
            "Simulação 600/1000 completas\n",
            "Simulação 700/1000 completas\n",
            "Simulação 800/1000 completas\n",
            "Simulação 900/1000 completas\n",
            "Simulação 1000/1000 completas\n"
          ]
        }
      ]
    },
    {
      "cell_type": "code",
      "source": [
        "maisrep[1]"
      ],
      "metadata": {
        "colab": {
          "base_uri": "https://localhost:8080/"
        },
        "id": "k7oTcLC0KJiC",
        "outputId": "631260cb-af41-46ce-af57-b28128217bb5"
      },
      "execution_count": null,
      "outputs": [
        {
          "output_type": "execute_result",
          "data": {
            "text/plain": [
              "13"
            ]
          },
          "metadata": {},
          "execution_count": 8
        }
      ]
    },
    {
      "cell_type": "code",
      "source": [
        "import numpy as np\n",
        "np.mean(maisrep)"
      ],
      "metadata": {
        "colab": {
          "base_uri": "https://localhost:8080/"
        },
        "id": "IfLhTV3HRjCh",
        "outputId": "97b1e9a3-ba6e-45a8-aa1e-8e477076a7f1"
      },
      "execution_count": null,
      "outputs": [
        {
          "output_type": "execute_result",
          "data": {
            "text/plain": [
              "13.967"
            ]
          },
          "metadata": {},
          "execution_count": 9
        }
      ]
    },
    {
      "cell_type": "markdown",
      "source": [
        "###Exercicio Proposto_Pergunta_2"
      ],
      "metadata": {
        "id": "RLXV196SulVY"
      }
    },
    {
      "cell_type": "code",
      "source": [
        "import random\n",
        "\n",
        "#Album zerado\n",
        "n = 251\n",
        "preco_album = 10\n",
        "preco_pacote = 4\n",
        "\n",
        "def SimularCompletarAlbum():\n",
        "  album = [0] * n\n",
        "  pacotes = 0\n",
        "\n",
        "  while True:\n",
        "    #Comprar um pacotinho de figurinhas\n",
        "    pacotinho = random.sample(range(n), 4)\n",
        "    pacotes += 1\n",
        "\n",
        "    #Colar as figurinhas no álbum\n",
        "    for figurinha in pacotinho:\n",
        "      album[figurinha] += 1\n",
        "\n",
        "    # Verificar figurinhas preenchidas\n",
        "    preenchidas = []\n",
        "    for figurinha in album:\n",
        "      preenchidas.append(figurinha > 0)\n",
        "    if all(preenchidas):\n",
        "      break\n",
        "  \n",
        "  return pacotes, max(album), album.count(1)  "
      ],
      "metadata": {
        "id": "Al8eQaNyuhTy"
      },
      "execution_count": null,
      "outputs": []
    },
    {
      "cell_type": "code",
      "source": [
        "SimularCompletarAlbum()"
      ],
      "metadata": {
        "colab": {
          "base_uri": "https://localhost:8080/"
        },
        "id": "Fc5uDDQKvF8U",
        "outputId": "ae26fc9d-0a7f-424b-b056-98265bea47d1"
      },
      "execution_count": null,
      "outputs": [
        {
          "output_type": "execute_result",
          "data": {
            "text/plain": [
              "(474, 18, 3)"
            ]
          },
          "metadata": {},
          "execution_count": 11
        }
      ]
    },
    {
      "cell_type": "code",
      "source": [
        "reps = 1000\n",
        "resultados = []\n",
        "maisrep = []\n",
        "naorepete = []\n",
        "\n",
        "for i in range(reps):\n",
        "  aux = SimularCompletarAlbum()\n",
        "  resultados.append(aux[0])\n",
        "  maisrep.append(aux[1])\n",
        "  naorepete.append(aux[2])\n",
        "  if (i+1) % 100 == 0:\n",
        "    print(f'Simulação {i+1}/{reps} completas')"
      ],
      "metadata": {
        "colab": {
          "base_uri": "https://localhost:8080/"
        },
        "id": "DfU2KP5fvGE-",
        "outputId": "a4caf550-e920-4019-9fd8-d3af4f138af8"
      },
      "execution_count": null,
      "outputs": [
        {
          "output_type": "stream",
          "name": "stdout",
          "text": [
            "Simulação 100/1000 completas\n",
            "Simulação 200/1000 completas\n",
            "Simulação 300/1000 completas\n",
            "Simulação 400/1000 completas\n",
            "Simulação 500/1000 completas\n",
            "Simulação 600/1000 completas\n",
            "Simulação 700/1000 completas\n",
            "Simulação 800/1000 completas\n",
            "Simulação 900/1000 completas\n",
            "Simulação 1000/1000 completas\n"
          ]
        }
      ]
    },
    {
      "cell_type": "code",
      "source": [
        "naorepete"
      ],
      "metadata": {
        "id": "aVJSjqAtxJ3r"
      },
      "execution_count": null,
      "outputs": []
    },
    {
      "cell_type": "code",
      "source": [
        "np.mean(naorepete)"
      ],
      "metadata": {
        "colab": {
          "base_uri": "https://localhost:8080/"
        },
        "id": "2LJ-6-sxxTTO",
        "outputId": "5a6aa150-8ae4-457e-b613-d40dd3872c6b"
      },
      "execution_count": null,
      "outputs": [
        {
          "output_type": "execute_result",
          "data": {
            "text/plain": [
              "5.923"
            ]
          },
          "metadata": {},
          "execution_count": 14
        }
      ]
    },
    {
      "cell_type": "markdown",
      "source": [
        "###Exercicio Proposto_Pergunta_3"
      ],
      "metadata": {
        "id": "tidZe048WNEl"
      }
    },
    {
      "cell_type": "code",
      "source": [
        "def SimularCompletarAlbum():\n",
        "  album = [0] * n\n",
        "  pacotes = 0\n",
        "\n",
        "  while True:\n",
        "    #Comprar um pacotinho de figurinhas\n",
        "    pacotinho = random.sample(range(n), 4)\n",
        "    pacotes += 1\n",
        "\n",
        "    #Colar as figurinhas no álbum\n",
        "    for figurinha in pacotinho:\n",
        "      album[figurinha] += 1\n",
        "\n",
        "    # Verificar figurinhas preenchidas\n",
        "    preenchidas = []\n",
        "    for figurinha in album:\n",
        "      preenchidas.append(figurinha > 0)\n",
        "    if all(preenchidas):\n",
        "      break\n",
        "  \n",
        "  return pacotes, max(album), album.count(1)  "
      ],
      "metadata": {
        "id": "K2MFXZZtVubn"
      },
      "execution_count": null,
      "outputs": []
    },
    {
      "cell_type": "code",
      "source": [
        ""
      ],
      "metadata": {
        "id": "_ZVp3Vp2EcyD"
      },
      "execution_count": null,
      "outputs": []
    },
    {
      "cell_type": "markdown",
      "source": [
        "### Terminar esta pergunta 3 depois..."
      ],
      "metadata": {
        "id": "z70wZzyvEeX5"
      }
    }
  ]
}