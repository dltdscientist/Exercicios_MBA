{
  "nbformat": 4,
  "nbformat_minor": 0,
  "metadata": {
    "colab": {
      "name": "Aula 09 - Programação_MBA",
      "provenance": [],
      "collapsed_sections": [],
      "authorship_tag": "ABX9TyMtnGs1GAWdNZ2mqZoWrRO7",
      "include_colab_link": true
    },
    "kernelspec": {
      "name": "python3",
      "display_name": "Python 3"
    },
    "language_info": {
      "name": "python"
    }
  },
  "cells": [
    {
      "cell_type": "markdown",
      "metadata": {
        "id": "view-in-github",
        "colab_type": "text"
      },
      "source": [
        "<a href=\"https://colab.research.google.com/github/dltdscientist/exerciciosPython/blob/main/Aula_09_Programa%C3%A7%C3%A3o_MBA.ipynb\" target=\"_parent\"><img src=\"https://colab.research.google.com/assets/colab-badge.svg\" alt=\"Open In Colab\"/></a>"
      ]
    },
    {
      "cell_type": "code",
      "source": [
        "import random"
      ],
      "metadata": {
        "id": "Ms9KfnCbWUo6"
      },
      "execution_count": null,
      "outputs": []
    },
    {
      "cell_type": "code",
      "execution_count": null,
      "metadata": {
        "colab": {
          "base_uri": "https://localhost:8080/"
        },
        "id": "ax5ezhPCBlmH",
        "outputId": "2c95cc58-ba91-48c5-8ed1-a1f93bdea278"
      },
      "outputs": [
        {
          "output_type": "stream",
          "name": "stdout",
          "text": [
            "{4, 9, 11, 18, 21, 29}\n"
          ]
        }
      ],
      "source": [
        "meujogo = set(random.sample(range(1,61), 6))\n",
        "print(meujogo)"
      ]
    },
    {
      "cell_type": "markdown",
      "source": [
        "## ◾ **Exercício Proposto**\n",
        "\n",
        "No jogo da Mega-sena, verifique quantos concursos já foram feitos até a data em que você está vendo essa aula. \n",
        "\n",
        "- Simule essa quantidade de jogos e veja a frequencia com que cada quantidade de acertos acontece. Esse é o cenário em que alguém fez um jogo simples em todos os concursos da Mega-sena. \n",
        "- Simule o cenário em que uma pessoa jogou 1000x cada concurso da Mega-sena, e verifique os mesmos resultados. Repita o experimento e analise a variabilidade dos números obtidos. \n",
        "- Faça um programa que conte as tentativas até que ocorra a primeira quina no jogo simulado da Mega-sena. Repita o procedimento 1000x e obtenha o número médio de vezes que algúem precisa jogar até conseguir a sua primeira quina. \n",
        "- Continue com os experimentos à sua maneira! "
      ],
      "metadata": {
        "id": "SxoQaPVBaG9N"
      }
    },
    {
      "cell_type": "markdown",
      "source": [
        "### Resolução minha."
      ],
      "metadata": {
        "id": "qo4PFLyI6jeA"
      }
    },
    {
      "cell_type": "code",
      "source": [
        "# Cáculo da quantidade de jogos da mega-sena desde quando foi criada, em 11/03/1996, até hoje, 2022.\n",
        "anos = 2022 - 1996\n",
        "print(f'{anos} anos')"
      ],
      "metadata": {
        "colab": {
          "base_uri": "https://localhost:8080/"
        },
        "id": "CPVIplhYZ7f7",
        "outputId": "38853736-ec3d-4a7a-aa1d-c01b46f84995"
      },
      "execution_count": null,
      "outputs": [
        {
          "output_type": "stream",
          "name": "stdout",
          "text": [
            "26 anos\n"
          ]
        }
      ]
    },
    {
      "cell_type": "markdown",
      "source": [
        "### Segundo o site da Megasena (https://loterias.caixa.gov.br/Paginas/Mega-Sena.aspx) estamos no concurso 2476 (28/04/22).\n",
        "### Logo, foram realizados 2476 sorteios desde que a Megasena existe."
      ],
      "metadata": {
        "id": "UDaPrFPvpY2T"
      }
    },
    {
      "cell_type": "code",
      "source": [
        "# Simulando essa quantidade de jogos.\n",
        "\n",
        "def Megasena():\n",
        "  a=0\n",
        "  b=0\n",
        "  c=0\n",
        "  d=0\n",
        "  e=0\n",
        "  f=0\n",
        "  g=0\n",
        "\n",
        "  for i in range(2476):\n",
        "    meujogo = set(random.sample(range(1,61), 6))\n",
        "  \n",
        "    sorteio = set(random.sample(range(1,61), 6))\n",
        "  \n",
        "    acertos = meujogo.intersection(sorteio)\n",
        "    \n",
        "    n_acertos = len(acertos)\n",
        "\n",
        "    if n_acertos == 0:\n",
        "        a = a + 1\n",
        "    elif n_acertos == 1:  \n",
        "        b = b + 1\n",
        "    elif n_acertos == 2:\n",
        "        c = c + 1\n",
        "    elif n_acertos == 3:\n",
        "        d = d + 1\n",
        "    elif n_acertos == 4:\n",
        "        e = e + 1\n",
        "    elif n_acertos == 5:\n",
        "        f = f + 1\n",
        "    else:\n",
        "        g = g + 1\n",
        "  return (a,b,c,d,e,f,g)"
      ],
      "metadata": {
        "id": "Ro6NW3O3dDTd"
      },
      "execution_count": null,
      "outputs": []
    },
    {
      "cell_type": "code",
      "source": [
        "print(Megasena())"
      ],
      "metadata": {
        "colab": {
          "base_uri": "https://localhost:8080/"
        },
        "id": "rHfEX35cdDcs",
        "outputId": "87cd8430-8d8d-41f3-abb5-b4887422e5ac"
      },
      "execution_count": null,
      "outputs": [
        {
          "output_type": "stream",
          "name": "stdout",
          "text": [
            "(1272, 964, 217, 23, 0, 0, 0)\n"
          ]
        }
      ]
    },
    {
      "cell_type": "markdown",
      "source": [
        "### Resolução do Prof. Ricardo"
      ],
      "metadata": {
        "id": "yev8GSlW68T6"
      }
    },
    {
      "cell_type": "code",
      "source": [
        "concursos = 2472*1000\n",
        "\n",
        "def Megasena():\n",
        "  sorteio = set(random.sample(range(60), 6))\n",
        "\n",
        "  meujogo = set(random.sample(range(60), 6))\n",
        "\n",
        "  acertos = meujogo.intersection(sorteio)\n",
        "\n",
        "  n_acertos = len(acertos)\n",
        "  return n_acertos\n",
        "\n",
        "#resultados = []\n",
        "#for i in range(concursos):\n",
        "#  resultados.append(Megasena())\n",
        "\n",
        "resultados = [Megasena() for i in range(concursos)]\n",
        "\n",
        "for i in range(7):\n",
        "  print(f'Quantidade que acertamos {i} vezes: {resultados.count(i)}')\n"
      ],
      "metadata": {
        "colab": {
          "base_uri": "https://localhost:8080/"
        },
        "id": "bdNdHR59fZm_",
        "outputId": "00a21e51-492c-4cca-9538-d287eafbce38"
      },
      "execution_count": null,
      "outputs": [
        {
          "output_type": "stream",
          "name": "stdout",
          "text": [
            "Quantidade que acertamos 0 vezes: 1276145\n",
            "Quantidade que acertamos 1 vezes: 935735\n",
            "Quantidade que acertamos 2 vezes: 234550\n",
            "Quantidade que acertamos 3 vezes: 24501\n",
            "Quantidade que acertamos 4 vezes: 1055\n",
            "Quantidade que acertamos 5 vezes: 14\n",
            "Quantidade que acertamos 6 vezes: 0\n"
          ]
        }
      ]
    }
  ]
}